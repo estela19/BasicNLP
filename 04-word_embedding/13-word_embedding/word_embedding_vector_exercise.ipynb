{
 "cells": [
  {
   "cell_type": "markdown",
   "metadata": {},
   "source": [
    "# How to Install\n",
    "\n",
    "\n",
    "## Using Make\n",
    "\n",
    "```bash\n",
    "$ git clone https://github.com/facebookresearch/fastText.git\n",
    "$ cd fastText\n",
    "$ mkdir build && cd build && cmake ..\n",
    "$ make && make install\n",
    "```\n",
    "\n",
    "## Using Pip\n",
    "\n",
    "```bash\n",
    "$ git clone https://github.com/facebookresearch/fastText.git\n",
    "$ cd fastText\n",
    "$ conda install -c conda-forge fasttext\n",
    "```"
   ]
  },
  {
   "cell_type": "markdown",
   "metadata": {},
   "source": [
    "## Trouble-shooting\n",
    "\n",
    "### For Mac\n",
    "\n",
    "In case if you have failure to install 'fastText', install following packages.\n",
    "\n",
    "```bash\n",
    "$ xcode-select --install\n",
    "$ brew install cmake\n",
    "$ brew install gcc\n",
    "```"
   ]
  },
  {
   "cell_type": "markdown",
   "metadata": {},
   "source": [
    "### For Windows\n",
    "\n",
    "download binary: https://github.com/xiamx/fastText/releases/download/fastText-latest-build43/fasttext-win64-latest-Release.zip\n",
    "\n",
    "Also, you need to register directory path to environment.\n",
    "\n",
    "If you want to import fasttext in python,\n",
    "\n",
    "https://pypi.org/project/fasttext-win/\n",
    "\n",
    "```sh\n",
    "$ pip install fasttext\n",
    "```\n",
    "\n"
   ]
  },
  {
   "cell_type": "code",
   "execution_count": 1,
   "metadata": {},
   "outputs": [
    {
     "name": "stdout",
     "output_type": "stream",
     "text": [
      "usage: fasttext <command> <args>\r\n",
      "\r\n",
      "The commands supported by fasttext are:\r\n",
      "\r\n",
      "  supervised              train a supervised classifier\r\n",
      "  quantize                quantize a model to reduce the memory usage\r\n",
      "  test                    evaluate a supervised classifier\r\n",
      "  test-label              print labels with precision and recall scores\r\n",
      "  predict                 predict most likely labels\r\n",
      "  predict-prob            predict most likely labels with probabilities\r\n",
      "  skipgram                train a skipgram model\r\n",
      "  cbow                    train a cbow model\r\n",
      "  print-word-vectors      print word vectors given a trained model\r\n",
      "  print-sentence-vectors  print sentence vectors given a trained model\r\n",
      "  print-ngrams            print ngrams given a trained model and word\r\n",
      "  nn                      query for nearest neighbors\r\n",
      "  analogies               query for analogies\r\n",
      "  dump                    dump arguments,dictionary,input/output vectors\r\n",
      "\r\n"
     ]
    }
   ],
   "source": [
    "!fasttext"
   ]
  },
  {
   "source": [
    "!head ./review.sorted.uniq.refined.tsv.text.tok"
   ],
   "cell_type": "markdown",
   "metadata": {}
  },
  {
   "cell_type": "code",
   "execution_count": 1,
   "metadata": {},
   "outputs": [
    {
     "output_type": "stream",
     "name": "stdout",
     "text": [
      "Read 2M words\n",
      "Number of words:  9348\n",
      "Number of labels: 0\n",
      "Progress: 100.0% words/sec/thread:  109910 lr:  0.000000 avg.loss:  1.837123 ETA:   0h 0m 0s\n"
     ]
    }
   ],
   "source": [
    "!fasttext skipgram -input ./review.sorted.uniq.refined.tsv.text.tok -output ko.tok -dim 256 -epoch 100 -minCount 5"
   ]
  },
  {
   "cell_type": "code",
   "execution_count": 9,
   "metadata": {},
   "outputs": [
    {
     "output_type": "stream",
     "name": "stdout",
     "text": [
      "Query word? 앤 0.21967\n목걸이 0.210472\n피로감 0.204432\n운전 0.201976\n설거지 0.200624\n구했 0.198741\n덧방 0.195079\n출고가 0.193994\nMDF 0.191553\n요철 0.191203\nQuery word? "
     ]
    }
   ],
   "source": [
    "!echo '게임' | fasttext nn ./ko.tok.bin 10"
   ]
  },
  {
   "cell_type": "code",
   "execution_count": 3,
   "metadata": {},
   "outputs": [
    {
     "output_type": "stream",
     "name": "stdout",
     "text": [
      "9348 256\n. 0.020236 0.12067 0.097334 0.025259 0.090657 -0.053318 -0.003326 0.050503 0.0083022 0.023705 -0.090081 0.088621 0.033641 0.13744 -0.092731 0.1028 -0.030744 0.027931 -0.086284 0.00084466 0.045288 -0.11411 -0.11758 0.00044206 -0.056897 0.043756 -0.084029 -0.025048 -0.015548 -0.099881 0.010457 0.030099 -0.024346 0.043477 0.067583 -0.10141 0.0013629 -0.14555 0.048353 0.07119 -0.078666 0.03328 0.090999 0.058139 -0.14038 0.11643 0.059987 0.0041062 0.081894 -0.037377 -0.12979 -0.036027 -0.073894 0.010907 -0.063173 -0.0044488 -0.03714 0.10342 -0.091151 0.048081 -0.034949 -0.17818 0.076501 0.099485 -0.063796 -0.056177 -0.14574 0.13839 0.04066 -0.0064729 0.067834 0.14779 -0.0052188 0.10787 -0.19487 -0.026679 0.019546 0.13511 -0.1496 0.0011748 -0.16022 -0.16218 0.16074 -0.019412 0.00028331 -0.17687 0.067087 0.068225 -0.018726 0.026456 0.12582 0.14191 0.12315 0.033011 0.056781 -0.11743 0.014513 -0.0056282 -0.086466 0.060037 -0.20226 -0.036043 0.050544 0.05324 0.011138 0.063496 -0.07524 -0.052731 0.083489 0.057723 0.037694 -0.016458 0.012602 0.14511 0.16958 0.031106 0.11455 0.0014262 -0.053691 -0.034124 0.034182 -0.004987 0.14731 -0.076093 0.1412 -0.16092 -0.13986 -0.013918 -0.02287 0.091705 -0.059821 0.19964 0.046978 0.055123 -0.056424 -0.11491 0.061194 -0.069267 0.087609 -0.07753 0.014477 -0.10301 -0.085583 -0.060028 0.070548 0.083175 0.00094288 0.0011324 -0.10547 -0.20091 -0.081135 -0.034459 -0.035439 0.05115 0.064975 -0.0085714 -0.024557 -0.13901 -0.047269 0.019089 0.04086 -0.009726 0.014843 -0.035074 0.017648 -0.0073722 -0.11125 -0.035812 0.022285 0.092419 -0.09579 0.10482 -0.05369 -0.10074 0.0055814 -0.0027506 -0.047439 -0.11157 0.066451 0.064857 -0.031773 0.0044006 -0.0051787 -0.087439 0.012931 0.016495 -0.019531 0.10348 0.034564 -0.036778 -0.018336 0.1558 -0.081452 -0.015346 -0.11699 -0.096371 -0.0027068 0.018132 0.14333 0.15225 -0.0091173 0.15225 0.071174 -0.015042 -0.016047 0.00040966 -0.028629 0.11592 0.1303 0.12611 -0.083149 -0.11616 -0.047279 0.019932 -0.083643 -0.10143 0.0083651 -0.013633 0.003101 0.039356 -0.07496 0.039368 0.10144 -0.091353 -0.03868 -0.08643 -0.0055628 -0.032177 0.084732 -0.054827 0.10306 0.096527 -0.11848 -0.024442 -0.12658 -0.035012 0.036754 -0.014254 -0.0067204 0.0029404 -0.012045 -0.12785 0.00082505 -0.055111 0.034493 0.039541 -0.013963 0.063422 0.079094 -0.18607 -0.052373 0.078055 -0.088442 0.053947 0.053217 -0.036835 \n"
     ]
    }
   ],
   "source": [
    "!head -n 2 ./ko.tok.vec"
   ]
  },
  {
   "cell_type": "code",
   "execution_count": null,
   "metadata": {},
   "outputs": [],
   "source": []
  }
 ],
 "metadata": {
  "kernelspec": {
   "name": "python3",
   "display_name": "Python 3.8.5 64-bit"
  },
  "language_info": {
   "codemirror_mode": {
    "name": "ipython",
    "version": 3
   },
   "file_extension": ".py",
   "mimetype": "text/x-python",
   "name": "python",
   "nbconvert_exporter": "python",
   "pygments_lexer": "ipython3",
   "version": "3.8.5"
  },
  "interpreter": {
   "hash": "916dbcbb3f70747c44a77c7bcd40155683ae19c65e1c03b4aa3499c5328201f1"
  }
 },
 "nbformat": 4,
 "nbformat_minor": 2
}